{
 "cells": [
  {
   "cell_type": "code",
   "execution_count": 1,
   "metadata": {},
   "outputs": [
    {
     "name": "stdout",
     "output_type": "stream",
     "text": [
      "Porter Stemmer:\n",
      "Original words: ['Stemming', 'is', 'a', 'natural', 'language', 'processing', 'technique', 'used', 'to', 'reduce', 'words', 'to', 'their', 'root', 'or', 'base', 'form', ',', 'known', 'as', 'the', 'stem', '.', 'This', 'process', 'involves', 'stripping', 'affixes', 'such', 'as', 'prefixes', 'and', 'suffixes', 'from', 'words', ',', 'aiming', 'to', 'normalize', 'variations', 'of', 'a', 'word', 'to', 'a', 'common', 'form', '.', 'Stemming', 'helps', 'in', 'text', 'analysis', 'tasks', 'like', 'information', 'retrieval', ',', 'search', 'engines', ',', 'and', 'sentiment', 'analysis', 'by', 'treating', 'variations', 'of', 'words', 'as', 'the', 'same', 'entity', '.', 'Although', 'stemming', 'may', 'not', 'always', 'produce', 'linguistically', 'correct', 'stems', ',', 'it', 'remains', 'a', 'valuable', 'tool', 'for', 'simplifying', 'text', 'processing', 'and', 'improving', 'computational', 'efficiency', 'in', 'language-based', 'applications', '.']\n",
      "Stemmed words: ['stem', 'is', 'a', 'natur', 'languag', 'process', 'techniqu', 'use', 'to', 'reduc', 'word', 'to', 'their', 'root', 'or', 'base', 'form', ',', 'known', 'as', 'the', 'stem', '.', 'thi', 'process', 'involv', 'strip', 'affix', 'such', 'as', 'prefix', 'and', 'suffix', 'from', 'word', ',', 'aim', 'to', 'normal', 'variat', 'of', 'a', 'word', 'to', 'a', 'common', 'form', '.', 'stem', 'help', 'in', 'text', 'analysi', 'task', 'like', 'inform', 'retriev', ',', 'search', 'engin', ',', 'and', 'sentiment', 'analysi', 'by', 'treat', 'variat', 'of', 'word', 'as', 'the', 'same', 'entiti', '.', 'although', 'stem', 'may', 'not', 'alway', 'produc', 'linguist', 'correct', 'stem', ',', 'it', 'remain', 'a', 'valuabl', 'tool', 'for', 'simplifi', 'text', 'process', 'and', 'improv', 'comput', 'effici', 'in', 'language-bas', 'applic', '.']\n",
      "\n",
      "Snowball Stemmer:\n",
      "Original words: ['Stemming', 'is', 'a', 'natural', 'language', 'processing', 'technique', 'used', 'to', 'reduce', 'words', 'to', 'their', 'root', 'or', 'base', 'form', ',', 'known', 'as', 'the', 'stem', '.', 'This', 'process', 'involves', 'stripping', 'affixes', 'such', 'as', 'prefixes', 'and', 'suffixes', 'from', 'words', ',', 'aiming', 'to', 'normalize', 'variations', 'of', 'a', 'word', 'to', 'a', 'common', 'form', '.', 'Stemming', 'helps', 'in', 'text', 'analysis', 'tasks', 'like', 'information', 'retrieval', ',', 'search', 'engines', ',', 'and', 'sentiment', 'analysis', 'by', 'treating', 'variations', 'of', 'words', 'as', 'the', 'same', 'entity', '.', 'Although', 'stemming', 'may', 'not', 'always', 'produce', 'linguistically', 'correct', 'stems', ',', 'it', 'remains', 'a', 'valuable', 'tool', 'for', 'simplifying', 'text', 'processing', 'and', 'improving', 'computational', 'efficiency', 'in', 'language-based', 'applications', '.']\n",
      "Stemmed words: ['stem', 'is', 'a', 'natur', 'languag', 'process', 'techniqu', 'use', 'to', 'reduc', 'word', 'to', 'their', 'root', 'or', 'base', 'form', ',', 'known', 'as', 'the', 'stem', '.', 'this', 'process', 'involv', 'strip', 'affix', 'such', 'as', 'prefix', 'and', 'suffix', 'from', 'word', ',', 'aim', 'to', 'normal', 'variat', 'of', 'a', 'word', 'to', 'a', 'common', 'form', '.', 'stem', 'help', 'in', 'text', 'analysi', 'task', 'like', 'inform', 'retriev', ',', 'search', 'engin', ',', 'and', 'sentiment', 'analysi', 'by', 'treat', 'variat', 'of', 'word', 'as', 'the', 'same', 'entiti', '.', 'although', 'stem', 'may', 'not', 'alway', 'produc', 'linguist', 'correct', 'stem', ',', 'it', 'remain', 'a', 'valuabl', 'tool', 'for', 'simplifi', 'text', 'process', 'and', 'improv', 'comput', 'effici', 'in', 'language-bas', 'applic', '.']\n"
     ]
    }
   ],
   "source": [
    "from nltk.stem import PorterStemmer, SnowballStemmer\n",
    "from nltk.tokenize import word_tokenize\n",
    "\n",
    "text = \"Stemming is a natural language processing technique used to reduce words to their root or base form, known as the stem. This process involves stripping affixes such as prefixes and suffixes from words, aiming to normalize variations of a word to a common form. Stemming helps in text analysis tasks like information retrieval, search engines, and sentiment analysis by treating variations of words as the same entity. Although stemming may not always produce linguistically correct stems, it remains a valuable tool for simplifying text processing and improving computational efficiency in language-based applications.\"\n",
    "\n",
    "words = word_tokenize(text)\n",
    "\n",
    "porter = PorterStemmer()\n",
    "\n",
    "snowball = SnowballStemmer(\"english\")\n",
    "\n",
    "stemmed_words_porter = [porter.stem(word) for word in words]\n",
    "\n",
    "stemmed_words_snowball = [snowball.stem(word) for word in words]\n",
    "\n",
    "print(\"Porter Stemmer:\")\n",
    "print(\"Original words:\", words)\n",
    "print(\"Stemmed words:\", stemmed_words_porter)\n",
    "print()\n",
    "\n",
    "print(\"Snowball Stemmer:\")\n",
    "print(\"Original words:\", words)\n",
    "print(\"Stemmed words:\", stemmed_words_snowball)\n"
   ]
  }
 ],
 "metadata": {
  "kernelspec": {
   "display_name": "Python 3",
   "language": "python",
   "name": "python3"
  },
  "language_info": {
   "codemirror_mode": {
    "name": "ipython",
    "version": 3
   },
   "file_extension": ".py",
   "mimetype": "text/x-python",
   "name": "python",
   "nbconvert_exporter": "python",
   "pygments_lexer": "ipython3",
   "version": "3.9.6"
  }
 },
 "nbformat": 4,
 "nbformat_minor": 2
}
