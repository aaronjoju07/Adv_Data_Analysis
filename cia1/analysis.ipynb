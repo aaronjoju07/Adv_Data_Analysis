{
 "cells": [
  {
   "cell_type": "code",
   "execution_count": 266,
   "metadata": {},
   "outputs": [],
   "source": [
    "import nltk\n",
    "from nltk.tokenize import word_tokenize\n",
    "from nltk.stem import PorterStemmer, WordNetLemmatizer\n",
    "from nltk.corpus import stopwords\n",
    "import pandas as pd"
   ]
  },
  {
   "cell_type": "code",
   "execution_count": 267,
   "metadata": {},
   "outputs": [
    {
     "data": {
      "text/html": [
       "<div>\n",
       "<style scoped>\n",
       "    .dataframe tbody tr th:only-of-type {\n",
       "        vertical-align: middle;\n",
       "    }\n",
       "\n",
       "    .dataframe tbody tr th {\n",
       "        vertical-align: top;\n",
       "    }\n",
       "\n",
       "    .dataframe thead th {\n",
       "        text-align: right;\n",
       "    }\n",
       "</style>\n",
       "<table border=\"1\" class=\"dataframe\">\n",
       "  <thead>\n",
       "    <tr style=\"text-align: right;\">\n",
       "      <th></th>\n",
       "      <th>TOPIC</th>\n",
       "      <th>DESC</th>\n",
       "    </tr>\n",
       "  </thead>\n",
       "  <tbody>\n",
       "    <tr>\n",
       "      <th>count</th>\n",
       "      <td>100</td>\n",
       "      <td>100</td>\n",
       "    </tr>\n",
       "    <tr>\n",
       "      <th>unique</th>\n",
       "      <td>100</td>\n",
       "      <td>100</td>\n",
       "    </tr>\n",
       "    <tr>\n",
       "      <th>top</th>\n",
       "      <td>Here's how you can utilize data analysis to ma...</td>\n",
       "      <td>Learn how team leaders can use data analysis f...</td>\n",
       "    </tr>\n",
       "    <tr>\n",
       "      <th>freq</th>\n",
       "      <td>1</td>\n",
       "      <td>1</td>\n",
       "    </tr>\n",
       "  </tbody>\n",
       "</table>\n",
       "</div>"
      ],
      "text/plain": [
       "                                                    TOPIC  \\\n",
       "count                                                 100   \n",
       "unique                                                100   \n",
       "top     Here's how you can utilize data analysis to ma...   \n",
       "freq                                                    1   \n",
       "\n",
       "                                                     DESC  \n",
       "count                                                 100  \n",
       "unique                                                100  \n",
       "top     Learn how team leaders can use data analysis f...  \n",
       "freq                                                    1  "
      ]
     },
     "execution_count": 267,
     "metadata": {},
     "output_type": "execute_result"
    }
   ],
   "source": [
    "dataset = pd.read_csv('topics.csv')\n",
    "dataset.describe()"
   ]
  },
  {
   "cell_type": "code",
   "execution_count": 268,
   "metadata": {},
   "outputs": [],
   "source": [
    "stop_words = set(stopwords.words('english'))\n",
    "stemmer = PorterStemmer()\n",
    "lemmatizer = WordNetLemmatizer()"
   ]
  },
  {
   "cell_type": "code",
   "execution_count": 269,
   "metadata": {},
   "outputs": [],
   "source": [
    "def wordTokenize(dataset):\n",
    "    _tokens = []\n",
    "    for data in dataset['TOPIC']:\n",
    "        _tokens.extend(word_tokenize(data))\n",
    "    for data in dataset['DESC']:\n",
    "        _tokens.extend(word_tokenize(data))\n",
    "    return _tokens\n",
    "def removeStopWords(wordTokens):\n",
    "    _filteredWords = []\n",
    "    for word in wordTokens:\n",
    "        if word.lower() not in stop_words and word.isalpha():\n",
    "            _filteredWords.append(word)\n",
    "    return _filteredWords"
   ]
  },
  {
   "cell_type": "code",
   "execution_count": 270,
   "metadata": {},
   "outputs": [
    {
     "name": "stdout",
     "output_type": "stream",
     "text": [
      "WORD_TOKE : 3365\n",
      "StopWordsRemovel : 1770\n"
     ]
    }
   ],
   "source": [
    "wordTokens = wordTokenize(dataset)\n",
    "print(\"WORD_TOKE :\", len(wordTokens))\n",
    "stopWordsRemovel = removeStopWords(wordTokens)\n",
    "print(\"StopWordsRemovel :\", len(stopWordsRemovel))"
   ]
  },
  {
   "cell_type": "code",
   "execution_count": 271,
   "metadata": {},
   "outputs": [],
   "source": [
    "def StopWordStemming(words):\n",
    "    _stemmedWords = []\n",
    "    for word in words:\n",
    "        _stemmedWords.append(stemmer.stem(word))\n",
    "    return _stemmedWords\n",
    "def lemmating_stopword(words):\n",
    "    _lemWords=[]\n",
    "    for word in words:\n",
    "        _lemWords.append(lemmatizer.lemmatize(word))\n",
    "    return _lemWords"
   ]
  },
  {
   "cell_type": "code",
   "execution_count": 272,
   "metadata": {},
   "outputs": [
    {
     "name": "stdout",
     "output_type": "stream",
     "text": [
      "Stemming : 1770\n",
      "Lemmating : 1770\n"
     ]
    }
   ],
   "source": [
    "stemming = StopWordStemming(stopWordsRemovel)\n",
    "print(\"Stemming :\", len(stemming))\n",
    "lemmating = lemmating_stopword(stopWordsRemovel)\n",
    "print(\"Lemmating :\", len(lemmating))"
   ]
  }
 ],
 "metadata": {
  "kernelspec": {
   "display_name": "Python 3",
   "language": "python",
   "name": "python3"
  },
  "language_info": {
   "codemirror_mode": {
    "name": "ipython",
    "version": 3
   },
   "file_extension": ".py",
   "mimetype": "text/x-python",
   "name": "python",
   "nbconvert_exporter": "python",
   "pygments_lexer": "ipython3",
   "version": "3.9.6"
  }
 },
 "nbformat": 4,
 "nbformat_minor": 2
}
